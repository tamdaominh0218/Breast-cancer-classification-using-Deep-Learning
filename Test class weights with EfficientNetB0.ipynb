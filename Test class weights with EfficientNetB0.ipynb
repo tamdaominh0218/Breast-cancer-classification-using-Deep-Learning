{
 "cells": [
  {
   "cell_type": "code",
   "execution_count": 1,
   "id": "2b5df32d",
   "metadata": {},
   "outputs": [],
   "source": [
    "import pandas as pd\n",
    "import numpy as np\n",
    "from tensorflow import keras\n",
    "import tensorflow as tf\n",
    "import matplotlib.pyplot as plt\n",
    "import cv2\n",
    "\n",
    "from sklearn.datasets import make_classification\n",
    "from tensorflow.keras.models import load_model"
   ]
  },
  {
   "cell_type": "code",
   "execution_count": 2,
   "id": "0077dc33",
   "metadata": {},
   "outputs": [
    {
     "name": "stdout",
     "output_type": "stream",
     "text": [
      "Found 36682 images belonging to 2 classes.\n",
      "Found 15719 images belonging to 2 classes.\n",
      "Found 22489 images belonging to 2 classes.\n"
     ]
    }
   ],
   "source": [
    "from keras.preprocessing.image import ImageDataGenerator\n",
    "\n",
    "train_datagen = ImageDataGenerator(\n",
    "        rotation_range=20,\n",
    "        zoom_range=0.15,\n",
    "        width_shift_range=0.2,\n",
    "        height_shift_range=0.2,\n",
    "        shear_range=0.15,\n",
    "        horizontal_flip=True,\n",
    "        fill_mode=\"nearest\",\n",
    "        validation_split=0.3)\n",
    "\n",
    "test_datagen = ImageDataGenerator()\n",
    "\n",
    "train_generator = train_datagen.flow_from_directory('./hist_images_truncated/train/', \n",
    "                                                    batch_size=16, subset=\"training\", \n",
    "                                                    class_mode='binary', \n",
    "                                                    target_size=(200, 200))\n",
    "valid_generator = train_datagen.flow_from_directory('./hist_images_truncated/train/', \n",
    "                                                    batch_size=16, subset=\"validation\", \n",
    "                                                    class_mode='binary', \n",
    "                                                    target_size=(200, 200))\n",
    "test_generator = test_datagen.flow_from_directory('./hist_images_truncated/test/', \n",
    "                                                  batch_size=16, \n",
    "                                                  class_mode='binary',\n",
    "                                                  # Read note below \n",
    "                                                  shuffle=False,\n",
    "                                                  target_size=(200, 200))"
   ]
  },
  {
   "cell_type": "code",
   "execution_count": 4,
   "id": "efbed94b",
   "metadata": {},
   "outputs": [],
   "source": [
    "class_weights = {0:1, 1:2.5}"
   ]
  },
  {
   "cell_type": "code",
   "execution_count": 5,
   "id": "6b83f190",
   "metadata": {},
   "outputs": [
    {
     "data": {
      "text/plain": [
       "(16, 200, 200, 3)"
      ]
     },
     "execution_count": 5,
     "metadata": {},
     "output_type": "execute_result"
    }
   ],
   "source": [
    "next(train_generator)[0].shape"
   ]
  },
  {
   "cell_type": "code",
   "execution_count": 6,
   "id": "a7e53d63",
   "metadata": {},
   "outputs": [
    {
     "name": "stdout",
     "output_type": "stream",
     "text": [
      "Model: \"sequential\"\n",
      "_________________________________________________________________\n",
      " Layer (type)                Output Shape              Param #   \n",
      "=================================================================\n",
      " efficientnetb0 (Functional)  (None, 7, 7, 1280)       4049571   \n",
      "                                                                 \n",
      " batch_normalization (BatchN  (None, 7, 7, 1280)       5120      \n",
      " ormalization)                                                   \n",
      "                                                                 \n",
      " global_average_pooling2d (G  (None, 1280)             0         \n",
      " lobalAveragePooling2D)                                          \n",
      "                                                                 \n",
      " dropout (Dropout)           (None, 1280)              0         \n",
      "                                                                 \n",
      " flatten (Flatten)           (None, 1280)              0         \n",
      "                                                                 \n",
      " dense (Dense)               (None, 128)               163968    \n",
      "                                                                 \n",
      " dense_1 (Dense)             (None, 1)                 129       \n",
      "                                                                 \n",
      "=================================================================\n",
      "Total params: 4,218,788\n",
      "Trainable params: 4,174,205\n",
      "Non-trainable params: 44,583\n",
      "_________________________________________________________________\n",
      "Epoch 1/15\n",
      "2293/2293 [==============================] - 548s 231ms/step - loss: 0.6178 - binary_accuracy: 0.8093 - precision: 0.6618 - recall: 0.8653 - auc: 0.8927 - val_loss: 0.4381 - val_binary_accuracy: 0.8161 - val_precision: 0.6889 - val_recall: 0.8095 - val_auc: 0.8957 - lr: 0.0010\n",
      "Epoch 2/15\n",
      "2293/2293 [==============================] - 476s 208ms/step - loss: 0.5299 - binary_accuracy: 0.8384 - precision: 0.7003 - recall: 0.8937 - auc: 0.9196 - val_loss: 0.4124 - val_binary_accuracy: 0.8105 - val_precision: 0.6921 - val_recall: 0.7689 - val_auc: 0.8829 - lr: 0.0010\n",
      "Epoch 3/15\n",
      "2293/2293 [==============================] - 443s 193ms/step - loss: 0.5029 - binary_accuracy: 0.8475 - precision: 0.7154 - recall: 0.8948 - auc: 0.9274 - val_loss: 0.4136 - val_binary_accuracy: 0.8096 - val_precision: 0.7016 - val_recall: 0.7382 - val_auc: 0.8873 - lr: 0.0010\n",
      "Epoch 4/15\n",
      "2293/2293 [==============================] - 457s 199ms/step - loss: 0.4813 - binary_accuracy: 0.8564 - precision: 0.7304 - recall: 0.8967 - auc: 0.9337 - val_loss: 0.3735 - val_binary_accuracy: 0.8260 - val_precision: 0.7713 - val_recall: 0.6735 - val_auc: 0.9052 - lr: 0.0010\n",
      "Epoch 5/15\n",
      "2293/2293 [==============================] - 454s 198ms/step - loss: 0.4654 - binary_accuracy: 0.8626 - precision: 0.7392 - recall: 0.9031 - auc: 0.9381 - val_loss: 0.4357 - val_binary_accuracy: 0.8093 - val_precision: 0.6813 - val_recall: 0.7955 - val_auc: 0.8887 - lr: 0.0010\n",
      "Epoch 6/15\n",
      "2293/2293 [==============================] - 448s 195ms/step - loss: 0.4486 - binary_accuracy: 0.8675 - precision: 0.7455 - recall: 0.9099 - auc: 0.9427 - val_loss: 0.3909 - val_binary_accuracy: 0.8338 - val_precision: 0.7166 - val_recall: 0.8230 - val_auc: 0.9109 - lr: 0.0010\n",
      "Epoch 7/15\n",
      "2293/2293 [==============================] - 433s 189ms/step - loss: 0.4372 - binary_accuracy: 0.8668 - precision: 0.7430 - recall: 0.9130 - auc: 0.9455 - val_loss: 0.7321 - val_binary_accuracy: 0.7387 - val_precision: 0.6494 - val_recall: 0.4561 - val_auc: 0.7571 - lr: 0.0010\n",
      "Epoch 8/15\n",
      "2293/2293 [==============================] - 442s 193ms/step - loss: 0.4178 - binary_accuracy: 0.8748 - precision: 0.7545 - recall: 0.9213 - auc: 0.9498 - val_loss: 0.4696 - val_binary_accuracy: 0.8188 - val_precision: 0.7173 - val_recall: 0.7459 - val_auc: 0.8806 - lr: 0.0010\n",
      "Epoch 9/15\n",
      "2293/2293 [==============================] - 450s 196ms/step - loss: 0.4171 - binary_accuracy: 0.8757 - precision: 0.7574 - recall: 0.9183 - auc: 0.9504 - val_loss: 0.4526 - val_binary_accuracy: 0.8181 - val_precision: 0.6855 - val_recall: 0.8315 - val_auc: 0.8906 - lr: 0.0010\n"
     ]
    }
   ],
   "source": [
    "model2_1 = keras.models.Sequential([\n",
    "    keras.applications.EfficientNetB0(input_shape=(200,200,3),weights='imagenet',include_top=False), \n",
    "    keras.layers.BatchNormalization(),\n",
    "    keras.layers.GlobalAveragePooling2D(),\n",
    "    keras.layers.Dropout(0.2),\n",
    "    keras.layers.Flatten(),\n",
    "    keras.layers.Dense(128, activation='relu'),\n",
    "    keras.layers.Dense(1, activation='sigmoid')\n",
    "])\n",
    "\n",
    "model2_1.summary()\n",
    "\n",
    "callbacks = [\n",
    "    tf.keras.callbacks.EarlyStopping(patience=5),\n",
    "    tf.keras.callbacks.ModelCheckpoint(filepath='breast_cancer_effnetb0_class_weights_25.h5', save_best_only=True),\n",
    "    tf.keras.callbacks.ReduceLROnPlateau()\n",
    "]\n",
    "\n",
    "model2_1.compile(loss=\"binary_crossentropy\",\n",
    "              optimizer='adam',\n",
    "              metrics=[\n",
    "                  keras.metrics.BinaryAccuracy(),\n",
    "                  keras.metrics.Precision(),\n",
    "                  keras.metrics.Recall(),\n",
    "                  keras.metrics.AUC()\n",
    "              ])\n",
    "\n",
    "history2_1 = model2_1.fit(train_generator,\n",
    "                     validation_data = valid_generator,\n",
    "                     callbacks = callbacks,\n",
    "                     epochs = 15,\n",
    "                     class_weight = class_weights)"
   ]
  },
  {
   "cell_type": "code",
   "execution_count": 7,
   "id": "14309c1b",
   "metadata": {},
   "outputs": [
    {
     "name": "stdout",
     "output_type": "stream",
     "text": [
      "1406/1406 [==============================] - 50s 35ms/step - loss: 0.3148 - binary_accuracy: 0.8654 - precision: 0.8058 - recall: 0.7827 - auc: 0.9319\n"
     ]
    },
    {
     "data": {
      "text/plain": [
       "[0.31476595997810364,\n",
       " 0.8654453158378601,\n",
       " 0.8058010935783386,\n",
       " 0.7826670408248901,\n",
       " 0.931921124458313]"
      ]
     },
     "execution_count": 7,
     "metadata": {},
     "output_type": "execute_result"
    }
   ],
   "source": [
    "model2_1 = load_model('breast_cancer_effnetb0_class_weights_25.h5')\n",
    "\n",
    "model2_1.evaluate(test_generator)"
   ]
  },
  {
   "cell_type": "code",
   "execution_count": 8,
   "id": "f48e922d",
   "metadata": {},
   "outputs": [
    {
     "data": {
      "text/plain": [
       "<AxesSubplot:ylabel='count'>"
      ]
     },
     "execution_count": 8,
     "metadata": {},
     "output_type": "execute_result"
    },
    {
     "data": {
      "image/png": "[encoded data removed]",
      "text/plain": [
       "<Figure size 432x288 with 1 Axes>"
      ]
     },
     "metadata": {
      "needs_background": "light"
     },
     "output_type": "display_data"
    }
   ],
   "source": [
    "y_pred = model2_1.predict(test_generator)\n",
    "\n",
    "import seaborn as sns\n",
    "sns.countplot(x=np.round(np.squeeze(y_pred)))"
   ]
  },
  {
   "cell_type": "code",
   "execution_count": 9,
   "id": "0eeecb5d",
   "metadata": {},
   "outputs": [
    {
     "data": {
      "image/png": "[encoded data removed]",
      "text/plain": [
       "<Figure size 432x288 with 2 Axes>"
      ]
     },
     "metadata": {
      "needs_background": "light"
     },
     "output_type": "display_data"
    }
   ],
   "source": [
    "import seaborn as sns\n",
    "from sklearn.metrics import confusion_matrix\n",
    "\n",
    "sns.heatmap(confusion_matrix(test_generator.classes, np.round(y_pred)), annot=True, fmt='g')\n",
    "plt.show()"
   ]
  },
  {
   "cell_type": "code",
   "execution_count": 10,
   "id": "302841fd",
   "metadata": {},
   "outputs": [],
   "source": [
    "class_weights = {0:1, 1:2}"
   ]
  },
  {
   "cell_type": "code",
   "execution_count": 11,
   "id": "20ba5a3d",
   "metadata": {},
   "outputs": [
    {
     "name": "stdout",
     "output_type": "stream",
     "text": [
      "Model: \"sequential_1\"\n",
      "_________________________________________________________________\n",
      " Layer (type)                Output Shape              Param #   \n",
      "=================================================================\n",
      " efficientnetb0 (Functional)  (None, 7, 7, 1280)       4049571   \n",
      "                                                                 \n",
      " batch_normalization_1 (Batc  (None, 7, 7, 1280)       5120      \n",
      " hNormalization)                                                 \n",
      "                                                                 \n",
      " global_average_pooling2d_1   (None, 1280)             0         \n",
      " (GlobalAveragePooling2D)                                        \n",
      "                                                                 \n",
      " dropout_1 (Dropout)         (None, 1280)              0         \n",
      "                                                                 \n",
      " flatten_1 (Flatten)         (None, 1280)              0         \n",
      "                                                                 \n",
      " dense_2 (Dense)             (None, 128)               163968    \n",
      "                                                                 \n",
      " dense_3 (Dense)             (None, 1)                 129       \n",
      "                                                                 \n",
      "=================================================================\n",
      "Total params: 4,218,788\n",
      "Trainable params: 4,174,205\n",
      "Non-trainable params: 44,583\n",
      "_________________________________________________________________\n",
      "Epoch 1/15\n",
      "2293/2293 [==============================] - 457s 196ms/step - loss: 0.5476 - binary_accuracy: 0.8206 - precision_1: 0.6875 - recall_1: 0.8389 - auc_1: 0.8951 - val_loss: 0.4119 - val_binary_accuracy: 0.8237 - val_precision_1: 0.7539 - val_recall_1: 0.6930 - val_auc_1: 0.8939 - lr: 0.0010\n",
      "Epoch 2/15\n",
      "2293/2293 [==============================] - 451s 197ms/step - loss: 0.4748 - binary_accuracy: 0.8479 - precision_1: 0.7250 - recall_1: 0.8702 - auc_1: 0.9200 - val_loss: 0.8604 - val_binary_accuracy: 0.6687 - val_precision_1: 0.4444 - val_recall_1: 0.0069 - val_auc_1: 0.7414 - lr: 0.0010\n",
      "Epoch 3/15\n",
      "2293/2293 [==============================] - 456s 199ms/step - loss: 0.4428 - binary_accuracy: 0.8608 - precision_1: 0.7467 - recall_1: 0.8763 - auc_1: 0.9309 - val_loss: 0.3437 - val_binary_accuracy: 0.8559 - val_precision_1: 0.7372 - val_recall_1: 0.8769 - val_auc_1: 0.9256 - lr: 0.0010\n",
      "Epoch 4/15\n",
      "2293/2293 [==============================] - 445s 194ms/step - loss: 0.4244 - binary_accuracy: 0.8643 - precision_1: 0.7498 - recall_1: 0.8847 - auc_1: 0.9368 - val_loss: 0.4380 - val_binary_accuracy: 0.8028 - val_precision_1: 0.6419 - val_recall_1: 0.9130 - val_auc_1: 0.9007 - lr: 0.0010\n",
      "Epoch 5/15\n",
      "2293/2293 [==============================] - 432s 188ms/step - loss: 0.4113 - binary_accuracy: 0.8675 - precision_1: 0.7539 - recall_1: 0.8895 - auc_1: 0.9406 - val_loss: 0.4908 - val_binary_accuracy: 0.7693 - val_precision_1: 0.6467 - val_recall_1: 0.6666 - val_auc_1: 0.8312 - lr: 0.0010\n",
      "Epoch 6/15\n",
      "2293/2293 [==============================] - 443s 193ms/step - loss: 0.3976 - binary_accuracy: 0.8727 - precision_1: 0.7607 - recall_1: 0.8971 - auc_1: 0.9445 - val_loss: 0.3646 - val_binary_accuracy: 0.8535 - val_precision_1: 0.7466 - val_recall_1: 0.8430 - val_auc_1: 0.9199 - lr: 0.0010\n",
      "Epoch 7/15\n",
      "2293/2293 [==============================] - 431s 188ms/step - loss: 0.3833 - binary_accuracy: 0.8805 - precision_1: 0.7742 - recall_1: 0.9013 - auc_1: 0.9483 - val_loss: 0.4150 - val_binary_accuracy: 0.8075 - val_precision_1: 0.7696 - val_recall_1: 0.5964 - val_auc_1: 0.8977 - lr: 0.0010\n",
      "Epoch 8/15\n",
      "2293/2293 [==============================] - 440s 192ms/step - loss: 0.3774 - binary_accuracy: 0.8802 - precision_1: 0.7738 - recall_1: 0.9011 - auc_1: 0.9500 - val_loss: 0.3875 - val_binary_accuracy: 0.8259 - val_precision_1: 0.7084 - val_recall_1: 0.8049 - val_auc_1: 0.8997 - lr: 0.0010\n"
     ]
    }
   ],
   "source": [
    "model2_2 = keras.models.Sequential([\n",
    "    keras.applications.EfficientNetB0(input_shape=(200,200,3),weights='imagenet',include_top=False), \n",
    "    keras.layers.BatchNormalization(),\n",
    "    keras.layers.GlobalAveragePooling2D(),\n",
    "    keras.layers.Dropout(0.2),\n",
    "    keras.layers.Flatten(),\n",
    "    keras.layers.Dense(128, activation='relu'),\n",
    "    keras.layers.Dense(1, activation='sigmoid')\n",
    "])\n",
    "\n",
    "model2_2.summary()\n",
    "\n",
    "callbacks = [\n",
    "    tf.keras.callbacks.EarlyStopping(patience=5),\n",
    "    tf.keras.callbacks.ModelCheckpoint(filepath='breast_cancer_effnetb0_class_weights_20.h5', save_best_only=True),\n",
    "    tf.keras.callbacks.ReduceLROnPlateau()\n",
    "]\n",
    "\n",
    "model2_2.compile(loss=\"binary_crossentropy\",\n",
    "              optimizer='adam',\n",
    "              metrics=[\n",
    "                  keras.metrics.BinaryAccuracy(),\n",
    "                  keras.metrics.Precision(),\n",
    "                  keras.metrics.Recall(),\n",
    "                  keras.metrics.AUC()\n",
    "              ])\n",
    "\n",
    "history2_2 = model2_2.fit(train_generator,\n",
    "                     validation_data = valid_generator,\n",
    "                     callbacks = callbacks,\n",
    "                     epochs = 15,\n",
    "                     class_weight = class_weights)"
   ]
  },
  {
   "cell_type": "code",
   "execution_count": 12,
   "id": "1062313e",
   "metadata": {},
   "outputs": [
    {
     "name": "stdout",
     "output_type": "stream",
     "text": [
      "1406/1406 [==============================] - 44s 30ms/step - loss: 0.2918 - binary_accuracy: 0.8803 - precision_1: 0.7921 - recall_1: 0.8662 - auc_1: 0.9422\n"
     ]
    },
    {
     "data": {
      "text/plain": [
       "[0.29178741574287415,\n",
       " 0.8802970051765442,\n",
       " 0.7920755743980408,\n",
       " 0.8662462830543518,\n",
       " 0.9421958923339844]"
      ]
     },
     "execution_count": 12,
     "metadata": {},
     "output_type": "execute_result"
    }
   ],
   "source": [
    "model2_2 = load_model('breast_cancer_effnetb0_class_weights_20.h5')\n",
    "\n",
    "model2_2.evaluate(test_generator)"
   ]
  },
  {
   "cell_type": "code",
   "execution_count": 13,
   "id": "f37e60b3",
   "metadata": {},
   "outputs": [
    {
     "data": {
      "text/plain": [
       "<AxesSubplot:ylabel='count'>"
      ]
     },
     "execution_count": 13,
     "metadata": {},
     "output_type": "execute_result"
    },
    {
     "data": {
      "image/png": "[encoded data removed]",
      "text/plain": [
       "<Figure size 432x288 with 1 Axes>"
      ]
     },
     "metadata": {
      "needs_background": "light"
     },
     "output_type": "display_data"
    }
   ],
   "source": [
    "y_pred = model2_2.predict(test_generator)\n",
    "\n",
    "import seaborn as sns\n",
    "sns.countplot(x=np.round(np.squeeze(y_pred)))"
   ]
  },
  {
   "cell_type": "code",
   "execution_count": 14,
   "id": "6d211ede",
   "metadata": {},
   "outputs": [
    {
     "data": {
      "image/png": "[encoded data removed]",
      "text/plain": [
       "<Figure size 432x288 with 2 Axes>"
      ]
     },
     "metadata": {
      "needs_background": "light"
     },
     "output_type": "display_data"
    }
   ],
   "source": [
    "import seaborn as sns\n",
    "from sklearn.metrics import confusion_matrix\n",
    "\n",
    "sns.heatmap(confusion_matrix(test_generator.classes, np.round(y_pred)), annot=True, fmt='g')\n",
    "plt.show()"
   ]
  },
  {
   "cell_type": "code",
   "execution_count": 15,
   "id": "f473a42e",
   "metadata": {},
   "outputs": [],
   "source": [
    "class_weights = {0:1, 1:3}"
   ]
  },
  {
   "cell_type": "code",
   "execution_count": 16,
   "id": "9007745a",
   "metadata": {},
   "outputs": [
    {
     "name": "stdout",
     "output_type": "stream",
     "text": [
      "Model: \"sequential_2\"\n",
      "_________________________________________________________________\n",
      " Layer (type)                Output Shape              Param #   \n",
      "=================================================================\n",
      " efficientnetb0 (Functional)  (None, 7, 7, 1280)       4049571   \n",
      "                                                                 \n",
      " batch_normalization_2 (Batc  (None, 7, 7, 1280)       5120      \n",
      " hNormalization)                                                 \n",
      "                                                                 \n",
      " global_average_pooling2d_2   (None, 1280)             0         \n",
      " (GlobalAveragePooling2D)                                        \n",
      "                                                                 \n",
      " dropout_2 (Dropout)         (None, 1280)              0         \n",
      "                                                                 \n",
      " flatten_2 (Flatten)         (None, 1280)              0         \n",
      "                                                                 \n",
      " dense_4 (Dense)             (None, 128)               163968    \n",
      "                                                                 \n",
      " dense_5 (Dense)             (None, 1)                 129       \n",
      "                                                                 \n",
      "=================================================================\n",
      "Total params: 4,218,788\n",
      "Trainable params: 4,174,205\n",
      "Non-trainable params: 44,583\n",
      "_________________________________________________________________\n",
      "Epoch 1/15\n",
      "2293/2293 [==============================] - 463s 198ms/step - loss: 0.6611 - binary_accuracy: 0.7998 - precision_2: 0.6438 - recall_2: 0.8837 - auc_2: 0.8959 - val_loss: 0.5551 - val_binary_accuracy: 0.7091 - val_precision_2: 0.5363 - val_recall_2: 0.8896 - val_auc_2: 0.8796 - lr: 0.0010\n",
      "Epoch 2/15\n",
      "2293/2293 [==============================] - 445s 194ms/step - loss: 0.5742 - binary_accuracy: 0.8343 - precision_2: 0.6914 - recall_2: 0.9012 - auc_2: 0.9204 - val_loss: 0.3857 - val_binary_accuracy: 0.8382 - val_precision_2: 0.7121 - val_recall_2: 0.8574 - val_auc_2: 0.9108 - lr: 0.0010\n",
      "Epoch 3/15\n",
      "2293/2293 [==============================] - 429s 187ms/step - loss: 0.5477 - binary_accuracy: 0.8413 - precision_2: 0.7004 - recall_2: 0.9089 - auc_2: 0.9274 - val_loss: 0.5051 - val_binary_accuracy: 0.7716 - val_precision_2: 0.6031 - val_recall_2: 0.9048 - val_auc_2: 0.8739 - lr: 0.0010\n",
      "Epoch 4/15\n",
      "2293/2293 [==============================] - 425s 185ms/step - loss: 0.5336 - binary_accuracy: 0.8465 - precision_2: 0.7093 - recall_2: 0.9079 - auc_2: 0.9311 - val_loss: 0.6462 - val_binary_accuracy: 0.7121 - val_precision_2: 0.5369 - val_recall_2: 0.9404 - val_auc_2: 0.8607 - lr: 0.0010\n",
      "Epoch 5/15\n",
      "2293/2293 [==============================] - 426s 186ms/step - loss: 0.5174 - binary_accuracy: 0.8522 - precision_2: 0.7170 - recall_2: 0.9134 - auc_2: 0.9356 - val_loss: 0.5284 - val_binary_accuracy: 0.7686 - val_precision_2: 0.5989 - val_recall_2: 0.9086 - val_auc_2: 0.8984 - lr: 0.0010\n",
      "Epoch 6/15\n",
      "2293/2293 [==============================] - 435s 190ms/step - loss: 0.5027 - binary_accuracy: 0.8574 - precision_2: 0.7245 - recall_2: 0.9176 - auc_2: 0.9393 - val_loss: 0.5076 - val_binary_accuracy: 0.7862 - val_precision_2: 0.6436 - val_recall_2: 0.7922 - val_auc_2: 0.8672 - lr: 0.0010\n",
      "Epoch 7/15\n",
      "2293/2293 [==============================] - 447s 195ms/step - loss: 0.4836 - binary_accuracy: 0.8597 - precision_2: 0.7260 - recall_2: 0.9246 - auc_2: 0.9432 - val_loss: 0.4326 - val_binary_accuracy: 0.8167 - val_precision_2: 0.6614 - val_recall_2: 0.9132 - val_auc_2: 0.9091 - lr: 0.0010\n"
     ]
    }
   ],
   "source": [
    "model2_3 = keras.models.Sequential([\n",
    "    keras.applications.EfficientNetB0(input_shape=(200,200,3),weights='imagenet',include_top=False), \n",
    "    keras.layers.BatchNormalization(),\n",
    "    keras.layers.GlobalAveragePooling2D(),\n",
    "    keras.layers.Dropout(0.2),\n",
    "    keras.layers.Flatten(),\n",
    "    keras.layers.Dense(128, activation='relu'),\n",
    "    keras.layers.Dense(1, activation='sigmoid')\n",
    "])\n",
    "\n",
    "model2_3.summary()\n",
    "\n",
    "callbacks = [\n",
    "    tf.keras.callbacks.EarlyStopping(patience=5),\n",
    "    tf.keras.callbacks.ModelCheckpoint(filepath='breast_cancer_effnetb0_class_weights_30.h5', save_best_only=True),\n",
    "    tf.keras.callbacks.ReduceLROnPlateau()\n",
    "]\n",
    "\n",
    "model2_3.compile(loss=\"binary_crossentropy\",\n",
    "              optimizer='adam',\n",
    "              metrics=[\n",
    "                  keras.metrics.BinaryAccuracy(),\n",
    "                  keras.metrics.Precision(),\n",
    "                  keras.metrics.Recall(),\n",
    "                  keras.metrics.AUC()\n",
    "              ])\n",
    "\n",
    "history2_3 = model2_3.fit(train_generator,\n",
    "                     validation_data = valid_generator,\n",
    "                     callbacks = callbacks,\n",
    "                     epochs = 6,\n",
    "                     class_weight = class_weights)"
   ]
  },
  {
   "cell_type": "code",
   "execution_count": 17,
   "id": "077e1f92",
   "metadata": {},
   "outputs": [
    {
     "name": "stdout",
     "output_type": "stream",
     "text": [
      "1406/1406 [==============================] - 42s 29ms/step - loss: 0.3456 - binary_accuracy: 0.8649 - precision_2: 0.7590 - recall_2: 0.8679 - auc_2: 0.9298\n"
     ]
    },
    {
     "data": {
      "text/plain": [
       "[0.34555065631866455,\n",
       " 0.8648672699928284,\n",
       " 0.759005069732666,\n",
       " 0.8678562045097351,\n",
       " 0.9298173189163208]"
      ]
     },
     "execution_count": 17,
     "metadata": {},
     "output_type": "execute_result"
    }
   ],
   "source": [
    "model2_3 = load_model('breast_cancer_effnetb0_class_weights_30.h5')\n",
    "\n",
    "model2_3.evaluate(test_generator)"
   ]
  },
  {
   "cell_type": "code",
   "execution_count": 18,
   "id": "fde61742",
   "metadata": {},
   "outputs": [
    {
     "data": {
      "text/plain": [
       "<AxesSubplot:ylabel='count'>"
      ]
     },
     "execution_count": 18,
     "metadata": {},
     "output_type": "execute_result"
    },
    {
     "data": {
      "image/png": "[encoded data removed]",
      "text/plain": [
       "<Figure size 432x288 with 1 Axes>"
      ]
     },
     "metadata": {
      "needs_background": "light"
     },
     "output_type": "display_data"
    }
   ],
   "source": [
    "y_pred = model2_3.predict(test_generator)\n",
    "\n",
    "import seaborn as sns\n",
    "sns.countplot(x=np.round(np.squeeze(y_pred)))"
   ]
  },
  {
   "cell_type": "code",
   "execution_count": 19,
   "id": "549de5a5",
   "metadata": {},
   "outputs": [
    {
     "data": {
      "image/png": "[encoded data removed]",
      "text/plain": [
       "<Figure size 432x288 with 2 Axes>"
      ]
     },
     "metadata": {
      "needs_background": "light"
     },
     "output_type": "display_data"
    }
   ],
   "source": [
    "import seaborn as sns\n",
    "from sklearn.metrics import confusion_matrix\n",
    "\n",
    "sns.heatmap(confusion_matrix(test_generator.classes, np.round(y_pred)), annot=True, fmt='g')\n",
    "plt.show()"
   ]
  }
 ],
 "metadata": {
  "kernelspec": {
   "display_name": "Python 3 (ipykernel)",
   "language": "python",
   "name": "python3"
  },
  "language_info": {
   "codemirror_mode": {
    "name": "ipython",
    "version": 3
   },
   "file_extension": ".py",
   "mimetype": "text/x-python",
   "name": "python",
   "nbconvert_exporter": "python",
   "pygments_lexer": "ipython3",
   "version": "3.9.7"
  }
 },
 "nbformat": 4,
 "nbformat_minor": 5
}
